{
  "cells": [
    {
      "cell_type": "markdown",
      "metadata": {
        "id": "view-in-github",
        "colab_type": "text"
      },
      "source": [
        "<a href=\"https://colab.research.google.com/github/leobertolazzi/it5-dantean-styletransfer/blob/main/dataset/ita2dante_analysis.ipynb\" target=\"_parent\"><img src=\"https://colab.research.google.com/assets/colab-badge.svg\" alt=\"Open In Colab\"/></a>"
      ]
    },
    {
      "cell_type": "markdown",
      "metadata": {
        "id": "QkG1CSI-dYPg"
      },
      "source": [
        "# ita2dante Dataset Analysis\n",
        "\n",
        "The ita2dante dataset contains all the sentences from Dante's \"Divine Comedy\" along with paraphrases in contemporary italian. There are approximately 6k pairs of aligned sentences and paraphrases in it.\n",
        "\n",
        "This notebook contains an analysis of some linguistic features of the dataset"
      ]
    },
    {
      "cell_type": "code",
      "source": [
        "# Mount Google Drive\n",
        "from google.colab import drive\n",
        "drive.mount('/content/drive/')"
      ],
      "metadata": {
        "id": "Fb0LQ6ozdt4o",
        "colab": {
          "base_uri": "https://localhost:8080/"
        },
        "outputId": "56e4213e-5b26-4ab4-b50e-ef6caa2a495c"
      },
      "execution_count": null,
      "outputs": [
        {
          "output_type": "stream",
          "name": "stdout",
          "text": [
            "Mounted at /content/drive/\n"
          ]
        }
      ]
    },
    {
      "cell_type": "code",
      "execution_count": null,
      "metadata": {
        "id": "0aSiOJZAdYPm"
      },
      "outputs": [],
      "source": [
        "import re\n",
        "from matplotlib import pyplot as plt\n",
        "\n",
        "plt.style.use('ggplot')"
      ]
    },
    {
      "cell_type": "code",
      "execution_count": null,
      "metadata": {
        "id": "j1nt1TcydYPt"
      },
      "outputs": [],
      "source": [
        "path = '.../ita2dante.csv'\n",
        "\n",
        "df = pd.read_csv(path)\n",
        "df = df.applymap(str)\n",
        "\n",
        "italian = df['italian']\n",
        "dante = df['dante']"
      ]
    },
    {
      "cell_type": "markdown",
      "metadata": {
        "id": "OhPLCWE8dYPu"
      },
      "source": [
        "### 1. Vocabulary"
      ]
    },
    {
      "cell_type": "code",
      "execution_count": null,
      "metadata": {
        "id": "ICHkLqVCdYPu"
      },
      "outputs": [],
      "source": [
        "def token_type(list_of_sents):\n",
        "    \"\"\"\n",
        "    Create two list with tokens and types\n",
        "    from a list of sentences \n",
        "    \"\"\"\n",
        "\n",
        "    tok = []\n",
        "    for sent in list_of_sents:\n",
        "        sent = sent.lower()\n",
        "        sent = re.sub(r\"\"\"[\\!\"#$%&'\\(\\)\\*\\+, -\\./:;<=>’\\?@\\[\\\\\\]^_`{\\|}~]\"\"\", r\" \", sent)\n",
        "        for word in sent.split(\" \"):\n",
        "            if word != \"\":\n",
        "                tok.append(word)\n",
        "    \n",
        "    type = set(tok)\n",
        "\n",
        "    return tok, type"
      ]
    },
    {
      "cell_type": "code",
      "execution_count": null,
      "metadata": {
        "id": "wfiOx4hQdYPu",
        "colab": {
          "base_uri": "https://localhost:8080/"
        },
        "outputId": "e9ec26c1-204b-47d1-c28a-758015edd385"
      },
      "outputs": [
        {
          "output_type": "stream",
          "name": "stdout",
          "text": [
            "Italian\n",
            "N. Tokens : 107402\n",
            "N. Types : 12414\n",
            "Type / Token ratio : 0.12\n",
            "\n",
            "Dante\n",
            "N. Tokens : 100963\n",
            "N. Types : 12792\n",
            "Type / Token ratio : 0.13\n"
          ]
        }
      ],
      "source": [
        "ita_tok, ita_type = token_type(italian)\n",
        "dante_tok, dante_type = token_type(dante)\n",
        "\n",
        "print(f'Italian\\nN. Tokens : {len(ita_tok)}\\nN. Types : {len(ita_type)}\\nType / Token ratio : {\"%0.02f\"%(len(ita_type)/len(ita_tok))}')\n",
        "print(f'\\nDante\\nN. Tokens : {len(dante_tok)}\\nN. Types : {len(dante_type)}\\nType / Token ratio : {\"%0.02f\"%(len(dante_type)/len(dante_tok))}')"
      ]
    },
    {
      "cell_type": "markdown",
      "metadata": {
        "id": "eGH0SMrTdYPv"
      },
      "source": [
        "N.B. token & type count was performed **without** a prior lemmatization"
      ]
    },
    {
      "cell_type": "markdown",
      "metadata": {
        "id": "Ttay440HdYPv"
      },
      "source": [
        "### 2. Sentence length"
      ]
    },
    {
      "cell_type": "code",
      "execution_count": null,
      "metadata": {
        "id": "7JZ-4piCdYPv"
      },
      "outputs": [],
      "source": [
        "def average_sentence_length(list_of_sents):\n",
        "    \"\"\"\n",
        "    Compute the average sentence length\n",
        "    from a list of sentences\n",
        "    \"\"\"\n",
        "\n",
        "    total = 0\n",
        "\n",
        "    for sent in list_of_sents:\n",
        "        sent = sent.lower()\n",
        "        sent = re.sub(r\"\"\"[\\!\"#$%&'\\(\\)\\*\\+, -\\./:;<=>’\\?@\\[\\\\\\]^_`{\\|}~]\"\"\", r\" \", sent)\n",
        "        tokens = []\n",
        "        for word in sent.split(\" \"):\n",
        "            if word != \"\":\n",
        "                tokens.append(word)\n",
        "        total += len(tokens)\n",
        "    \n",
        "    average = (total/len(list_of_sents))\n",
        "\n",
        "    return average"
      ]
    },
    {
      "cell_type": "code",
      "execution_count": null,
      "metadata": {
        "id": "sYkVeRR-dYPv"
      },
      "outputs": [],
      "source": [
        "def sentence_lenght_dicts(list_of_sents):\n",
        "    \"\"\"\n",
        "    Create a dictionary with length ranges as keys\n",
        "    and the number of sentences in those ranges as values\n",
        "    \"\"\"\n",
        "\n",
        "    freq_dict = {\"1-10\":0, \"11-20\":0, \"21-30\":0, \"31-40\":0, \"41-50\":0, \"51-60\":0, \"61-70\":0, \"71-80\":0}\n",
        "    for sent in list_of_sents:\n",
        "\n",
        "        sent = sent.lower()\n",
        "        sent = re.sub(r\"\"\"[\\!\"#$%&'\\(\\)\\*\\+, -\\./:;<=>’\\?@\\[\\\\\\]^_`{\\|}~]\"\"\", r\" \", sent)\n",
        "        tokens = []\n",
        "        for word in sent.split(\" \"):\n",
        "            if word != \"\":\n",
        "                tokens.append(word)\n",
        "\n",
        "        if len(tokens) < 11:\n",
        "            freq_dict[\"1-10\"] += 1\n",
        "        elif len(tokens) < 21:\n",
        "            freq_dict[\"11-20\"] += 1\n",
        "        elif len(tokens) < 31:\n",
        "            freq_dict[\"21-30\"] += 1\n",
        "        elif len(tokens) < 41:\n",
        "            freq_dict[\"31-40\"] += 1\n",
        "        elif len(tokens) < 51:\n",
        "            freq_dict[\"41-50\"] += 1\n",
        "        elif len(tokens) < 61:\n",
        "            freq_dict[\"51-60\"] += 1\n",
        "        elif len(tokens) < 71:\n",
        "            freq_dict[\"61-70\"] += 1\n",
        "        else:\n",
        "            freq_dict[\"71-80\"] += 1\n",
        "\n",
        "    return freq_dict\n",
        "            "
      ]
    },
    {
      "cell_type": "code",
      "execution_count": null,
      "metadata": {
        "id": "0ckROr_-dYPw",
        "colab": {
          "base_uri": "https://localhost:8080/"
        },
        "outputId": "77ceeb74-9d3c-4c7e-b187-f13c1bc3b95b"
      },
      "outputs": [
        {
          "output_type": "stream",
          "name": "stdout",
          "text": [
            "Average sentence length - Italian:\n",
            "18.19\n",
            "\n",
            "Average sentence length - Dante:\n",
            "17.10\n"
          ]
        }
      ],
      "source": [
        "avg_ita = average_sentence_length(italian)\n",
        "avg_dante = average_sentence_length(dante)\n",
        "\n",
        "print(f'Average sentence length - Italian:\\n{\"%0.02f\"%avg_ita}')\n",
        "print(f'\\nAverage sentence length - Dante:\\n{\"%0.02f\"%avg_dante}')"
      ]
    },
    {
      "cell_type": "code",
      "execution_count": null,
      "metadata": {
        "id": "So-NIsABdYPw",
        "colab": {
          "base_uri": "https://localhost:8080/"
        },
        "outputId": "e5b018de-ed02-47ba-d935-e5dfa894d2ce"
      },
      "outputs": [
        {
          "output_type": "stream",
          "name": "stdout",
          "text": [
            "Italian:\n",
            "Length     Frequency \n",
            "1-10       1695      \n",
            "11-20      1874      \n",
            "21-30      1718      \n",
            "31-40      294       \n",
            "41-50      246       \n",
            "51-60      52        \n",
            "61-70      16        \n",
            "71-80      10        \n",
            "\n",
            "\n",
            "Dante:\n",
            "Length     Frequency \n",
            "1-10       1813      \n",
            "11-20      2071      \n",
            "21-30      1496      \n",
            "31-40      226       \n",
            "41-50      254       \n",
            "51-60      16        \n",
            "61-70      27        \n",
            "71-80      2         \n"
          ]
        }
      ],
      "source": [
        "dict_ita = sentence_lenght_dicts(italian)\n",
        "dict_dante = sentence_lenght_dicts(dante)\n",
        "\n",
        "print(\"Italian:\")\n",
        "print(\"{:<10} {:<10}\".format('Length', 'Frequency'))\n",
        "\n",
        "for key, value in dict_ita.items():\n",
        "    print(\"{:<10} {:<10}\".format(key, value))\n",
        "\n",
        "print(\"\\n\\nDante:\")\n",
        "print(\"{:<10} {:<10}\".format('Length', 'Frequency'))\n",
        "\n",
        "for key, value in dict_dante.items():\n",
        "    print(\"{:<10} {:<10}\".format(key, value))"
      ]
    },
    {
      "cell_type": "code",
      "execution_count": null,
      "metadata": {
        "id": "OPIm4pKadYPw",
        "colab": {
          "base_uri": "https://localhost:8080/",
          "height": 282
        },
        "outputId": "8e3bbe5c-4edd-4028-c34e-81057700ff55"
      },
      "outputs": [
        {
          "output_type": "display_data",
          "data": {
            "text/plain": [
              "<Figure size 432x288 with 1 Axes>"
            ],
            "image/png": "[encoded data removed]"
          },
          "metadata": {}
        }
      ],
      "source": [
        "plt.bar(range(len(dict_ita)), list(dict_ita.values()), align='center')\n",
        "plt.xticks(range(len(dict_ita)), list(dict_ita.keys()))\n",
        "plt.title('Sentence length - Dante')\n",
        "#plt.savefig('/content/drive/My Drive/ita2dante/dante.png', dpi=800)\n",
        "plt.show()"
      ]
    },
    {
      "cell_type": "code",
      "execution_count": null,
      "metadata": {
        "id": "GdHrgvr9dYPw",
        "colab": {
          "base_uri": "https://localhost:8080/",
          "height": 282
        },
        "outputId": "0074ea52-9a97-45c7-be6e-1182a46a14fe"
      },
      "outputs": [
        {
          "output_type": "display_data",
          "data": {
            "text/plain": [
              "<Figure size 432x288 with 1 Axes>"
            ],
            "image/png": "[encoded data removed]"
          },
          "metadata": {}
        }
      ],
      "source": [
        "plt.bar(range(len(dict_dante)), list(dict_dante.values()), align='center')\n",
        "plt.xticks(range(len(dict_dante)), list(dict_dante.keys()))\n",
        "plt.title('Sentence length - Italian')\n",
        "#plt.savefig('/content/drive/My Drive/ita2dante/italian.png', dpi=800)\n",
        "plt.show()"
      ]
    }
  ],
  "metadata": {
    "kernelspec": {
      "display_name": "Python 3.10.4 ('hlt')",
      "language": "python",
      "name": "python3"
    },
    "language_info": {
      "codemirror_mode": {
        "name": "ipython",
        "version": 3
      },
      "file_extension": ".py",
      "mimetype": "text/x-python",
      "name": "python",
      "nbconvert_exporter": "python",
      "pygments_lexer": "ipython3",
      "version": "3.8.8"
    },
    "orig_nbformat": 4,
    "vscode": {
      "interpreter": {
        "hash": "c815ffc6ab39eaec162ca23ff6ee9e55ba8989c526453771af9b231d6c9e0b71"
      }
    },
    "colab": {
      "provenance": [],
      "collapsed_sections": [],
      "include_colab_link": true
    }
  },
  "nbformat": 4,
  "nbformat_minor": 0
}
